{
 "cells": [
  {
   "cell_type": "markdown",
   "metadata": {},
   "source": [
    "1. A pack contains 4 blue, 2 red and 3 black pens. If 2 pens are drawn at random from the pack,not replaced and then another      pen is drawn. What is the probability of drawing 2 blue pens and 1 black pen?\n",
    "2. A box contain 4 mangoes and 4 oranges. Dan eats 3 of them one after another. What is the probability of sequentially            choosing 2 mangoes and 1 oranges? \n",
    "3. A bag contains blue and red balls.Two balls are drawn randomlly without replacement. The probability of selecting a blue and    then a red ball is 0.2. The probability of selecting a blue ball in the first draw is 0.5. What is the probability of          drawing a red ball, given that the first ball drawn was blue?"
   ]
  },
  {
   "cell_type": "code",
   "execution_count": 2,
   "metadata": {},
   "outputs": [],
   "source": [
    "import numpy as np\n",
    "import pandas as pd\n",
    "import statistics as st"
   ]
  },
  {
   "cell_type": "code",
   "execution_count": 12,
   "metadata": {},
   "outputs": [
    {
     "name": "stdout",
     "output_type": "stream",
     "text": [
      "The probability of drawing 2 blue pens and one black pen is\n"
     ]
    },
    {
     "data": {
      "text/plain": [
       "0.031746031746031744"
      ]
     },
     "execution_count": 12,
     "metadata": {},
     "output_type": "execute_result"
    }
   ],
   "source": [
    "#cal the total number of pens\n",
    "4 + 2 + 3 \n",
    "#since the 2 pens randomly taken were not replaced, the total no of times a black pen can be taken is reduced\n",
    "print(\"The probability of drawing 2 blue pens and one black pen is\")\n",
    "(2/9)*(1/7)"
   ]
  },
  {
   "cell_type": "markdown",
   "metadata": {},
   "source": []
  },
  {
   "cell_type": "code",
   "execution_count": 8,
   "metadata": {},
   "outputs": [
    {
     "data": {
      "text/plain": [
       "0.125"
      ]
     },
     "execution_count": 8,
     "metadata": {},
     "output_type": "execute_result"
    }
   ],
   "source": [
    "#Qestion2:\n",
    "#total no of mangoe = 4\n",
    "#total no of oranges = 4\n",
    "#probability of eating 2 mangoes\n",
    "2/4\n",
    "#probability of eating 1 orange\n",
    "1/4\n",
    "#therefore\n",
    "(2/4)*(1/4)\n",
    "    "
   ]
  },
  {
   "cell_type": "code",
   "execution_count": null,
   "metadata": {},
   "outputs": [],
   "source": []
  },
  {
   "cell_type": "code",
   "execution_count": 10,
   "metadata": {},
   "outputs": [
    {
     "name": "stdout",
     "output_type": "stream",
     "text": [
      "The probability of selecting both pens/probability of selecting only blue\n"
     ]
    },
    {
     "data": {
      "text/plain": [
       "0.4"
      ]
     },
     "execution_count": 10,
     "metadata": {},
     "output_type": "execute_result"
    }
   ],
   "source": [
    "#Question 3\n",
    "#the probability of selecting the blue and then the red ball = 0.2\n",
    "#the probability of selecting blue = 0.5\n",
    "#let the probability of selecting red = x, therefore\n",
    "print(\"The probability of selecting both pens/probability of selecting only blue\")\n",
    "0.2/0.5"
   ]
  },
  {
   "cell_type": "code",
   "execution_count": null,
   "metadata": {},
   "outputs": [],
   "source": []
  }
 ],
 "metadata": {
  "kernelspec": {
   "display_name": "Python 3",
   "language": "python",
   "name": "python3"
  },
  "language_info": {
   "codemirror_mode": {
    "name": "ipython",
    "version": 3
   },
   "file_extension": ".py",
   "mimetype": "text/x-python",
   "name": "python",
   "nbconvert_exporter": "python",
   "pygments_lexer": "ipython3",
   "version": "3.8.5"
  }
 },
 "nbformat": 4,
 "nbformat_minor": 4
}
